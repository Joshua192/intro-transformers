{
 "cells": [
  {
   "cell_type": "code",
   "execution_count": null,
   "id": "309e1d16",
   "metadata": {},
   "outputs": [],
   "source": [
    "import torch\n",
    "from torch import Tensor\n",
    "from torch import nn\n",
    "from torch.utils.data import DataLoader, Dataset\n",
    "from torchvision import datasets, transforms\n",
    "from typing import List\n",
    "import matplotlib.pyplot as plt\n",
    "import numpy as np\n",
    "import random\n",
    "import timeit\n",
    "from tqdm import tqdm"
   ]
  },
  {
   "cell_type": "code",
   "execution_count": null,
   "id": "425fd7e1",
   "metadata": {},
   "outputs": [],
   "source": [
    "transform = transforms.ToTensor()\n",
    "train_dataset = datasets.MNIST(root='data', train=True, download=True, transform=transform) "
   ]
  },
  {
   "cell_type": "code",
   "execution_count": null,
   "id": "5e624a3f",
   "metadata": {},
   "outputs": [],
   "source": [
    "\n",
    "batch_size = 64\n",
    "# Create data loader for the training dataset\n",
    "train_loader = DataLoader(dataset=train_dataset, batch_size=batch_size, shuffle=True)"
   ]
  },
  {
   "cell_type": "code",
   "execution_count": 12,
   "id": "1426f61b",
   "metadata": {},
   "outputs": [],
   "source": [
    "from matplotlib import pyplot as plt\n",
    "# Function to visualize images\n",
    "def show_images(images, labels):\n",
    "    fig, axes = plt.subplots(len(images)//5, 5, figsize=(10, 2))\n",
    "    for img, label, ax in zip(images, labels, axes):\n",
    "        ax.imshow(img.squeeze(), cmap='gray')\n",
    "        ax.set_title(f'Value: {label}')\n",
    "        ax.axis('off')\n",
    "    plt.show()\n",
    "\n",
    "# Get a batch of images from the training data loader\n",
    "data_iter = iter(train_loader)\n",
    "pictures, true_values = next(data_iter)"
   ]
  },
  {
   "cell_type": "code",
   "execution_count": 15,
   "id": "c50c8367",
   "metadata": {},
   "outputs": [
    {
     "data": {
      "image/png": "[encoded data removed]",
      "text/plain": [
       "<Figure size 1000x200 with 5 Axes>"
      ]
     },
     "metadata": {},
     "output_type": "display_data"
    }
   ],
   "source": [
    "show_images(pictures[10:15], true_values[10:15])"
   ]
  },
  {
   "cell_type": "code",
   "execution_count": 100,
   "id": "562af511",
   "metadata": {},
   "outputs": [
    {
     "name": "stdout",
     "output_type": "stream",
     "text": [
      "<class 'torch.Tensor'> torch.Size([1, 28, 28])\n"
     ]
    },
    {
     "data": {
      "image/png": "[encoded data removed]",
      "text/plain": [
       "<Figure size 640x480 with 1 Axes>"
      ]
     },
     "metadata": {},
     "output_type": "display_data"
    },
    {
     "name": "stdout",
     "output_type": "stream",
     "text": [
      "n_patches = 49. 7 rows and 7 columns.\n"
     ]
    },
    {
     "data": {
      "image/png": "[encoded data removed]",
      "text/plain": [
       "<Figure size 700x700 with 49 Axes>"
      ]
     },
     "metadata": {},
     "output_type": "display_data"
    }
   ],
   "source": [
    "#TODO: [USING VIDEO TUTORIAL ViT]: Split image into quaters using function, translate training set data into splits and feed that into encoder model.\n",
    "\n",
    "split_image = pictures[0]\n",
    "# split = #picture is a tensor split into 4 patches (get size of one side, split)\n",
    "# print(split_image.shape) #torch.Size([1, 28, 28])\n",
    "print(type(split_image), split_image.shape)\n",
    "\n",
    "# tensor_image = split_image.view(split_image.shape[1], split_image.shape[2], split_image.shape[0])\n",
    "# plt.imshow(split_image.permute(1, 2, 0))# same as shaping with view()\n",
    "# plt.show()\n",
    "# print(\"shaped img: \",type(tensor_image), tensor_image.shape)\n",
    "\n",
    "plt.title(\"Original Image\")\n",
    "plt.imshow(split_image.squeeze(), cmap='gray')\n",
    "plt.show()\n",
    "\n",
    "# def split_into_four(img: Tensor) -> List[Tensor]:\n",
    "#     C, H, W = img.shape\n",
    "\n",
    "#     assert H % 2 == 0 and W % 2 == 0 #\"Height and Width must be even numbers.\"\n",
    "#     top, bottom = torch.split(img, H // 2, dim=1)\n",
    "#     top_left, top_right = torch.split(top, W // 2, dim=2)\n",
    "#     bottom_left, bottom_right = torch.split(bottom, W // 2, dim=2)\n",
    "\n",
    "#     return [top_left, top_right, bottom_left, bottom_right]\n",
    "\n",
    "# split_image = split_into_four(split_image)\n",
    "\n",
    "def patch_generator(img: Tensor, patch_size: int) -> List[Tensor]: \n",
    "    Img_channel, Img_Height, Img_Width = img.shape \n",
    "    \n",
    "    unfold = nn.Unfold(kernel_size=(patch_size,patch_size), stride=(patch_size,patch_size)) #could stride be patch_size*patch_size\n",
    "    patches = unfold(img.unsqueeze(0))\n",
    "    patches = patches.squeeze(0).T\n",
    "    patches = patches.view(-1, Img_channel, patch_size, patch_size)\n",
    "    return list(patches)\n",
    "\n",
    "patches = patch_generator(split_image, patch_size=4) #PATCH_SIZE not defined yet\n",
    "\n",
    "def show_image(patches, original_img_size, patch_size):  \n",
    "    n_patches = len(patches)\n",
    "    cols = rows = original_img_size // patch_size\n",
    "    print(f\"n_patches = {n_patches}. {rows} rows and {cols} columns.\")\n",
    "\n",
    "    fig, axes = plt.subplots(rows, cols, figsize=(cols, rows))\n",
    "    axes = axes.flatten() #GPT line\n",
    "    for img, ax in zip(patches, axes):\n",
    "        ax.imshow(img.squeeze(), cmap='gray')\n",
    "        ax.axis('off')\n",
    "    \n",
    "    # Hide any leftover axes\n",
    "    for ax in axes[n_patches:]:\n",
    "        ax.axis('off')\n",
    "    \n",
    "    plt.tight_layout()\n",
    "    plt.show()\n",
    "\n",
    "show_image(patches, 28, 4)"
   ]
  },
  {
   "cell_type": "code",
   "execution_count": 43,
   "id": "bbb1fb6e",
   "metadata": {},
   "outputs": [],
   "source": [
    "RANDOM_SEED = 42\n",
    "BATCH_SIZE = 512\n",
    "EPOCHS = 50\n",
    "LEARNING_RATE = 0.0001\n",
    "NUM_CLASSES = 10\n",
    "PATCH_SIZE = 4\n",
    "IMG_SIZE = 28\n",
    "IN_CHANNELS = 1\n",
    "NUM_HEADS = 8\n",
    "DROPOUT = 0.001\n",
    "HIDDEN_DIM = 768\n",
    "ADAM_WEIGHT_DECAY = 0\n",
    "# ADAM_BETAS = (0.9, 0.999)\n",
    "ACTIVATION=\"gelu\"\n",
    "NUM_ENCODERS = 4 #encoders in rel life are stacked multiple times\n",
    "EMBED_DIM = (PATCH_SIZE * PATCH_SIZE) * IN_CHANNELS # 16 = H*W * Channels\n",
    "NUM_PATCHES = (IMG_SIZE // PATCH_SIZE) ** 2 # 49 = (HWC//Size)^2\n",
    "\n",
    "#stuff I don't yet understand\n",
    "random.seed(RANDOM_SEED)\n",
    "np.random.seed(RANDOM_SEED)\n",
    "torch.manual_seed(RANDOM_SEED)\n",
    "torch.cuda.manual_seed(RANDOM_SEED)\n",
    "torch.cuda.manual_seed_all(RANDOM_SEED)\n",
    "torch.backends.cudnn.deterministic = True\n",
    "torch.backends.cudnn.benchmark = False\n",
    "\n",
    "device = \"cuda\" if torch.cuda.is_available() else \"cpu\""
   ]
  },
  {
   "cell_type": "code",
   "execution_count": null,
   "id": "bce37300",
   "metadata": {},
   "outputs": [],
   "source": []
  },
  {
   "cell_type": "markdown",
   "id": "d640f2c8",
   "metadata": {},
   "source": [
    "## Create Image Patches, Convert to Embeddings, CLS Token Classification\n"
   ]
  },
  {
   "cell_type": "code",
   "execution_count": 58,
   "id": "c80d4d40",
   "metadata": {},
   "outputs": [
    {
     "name": "stdout",
     "output_type": "stream",
     "text": [
      "torch.Size([512, 50, 16])\n"
     ]
    }
   ],
   "source": [
    "class PatchEmbedding(nn.Module):\n",
    "    def __init__(self, embed_dim, patch_size, num_patches, dropout, in_channels):\n",
    "        super().__init__()\n",
    "        self.patcher = nn.Sequential(\n",
    "            nn.Conv2d(\n",
    "                in_channels=in_channels,\n",
    "                out_channels=embed_dim,\n",
    "                kernel_size=patch_size,\n",
    "                stride=patch_size,\n",
    "            ),                  \n",
    "            nn.Flatten(2))\n",
    "\n",
    "        self.cls_token = nn.Parameter(torch.randn(size=(1, in_channels, embed_dim)), requires_grad=True)\n",
    "        self.position_embeddings = nn.Parameter(torch.randn(size=(1, num_patches+1, embed_dim)), requires_grad=True)\n",
    "        self.dropout = nn.Dropout(p=dropout)\n",
    "\n",
    "    def forward(self, x):\n",
    "        cls_token = self.cls_token.expand(x.shape[0], -1, -1) # -1, -1 do not modify dim\n",
    "\n",
    "        x = self.patcher(x).permute(0, 2, 1)# image reshape \n",
    "        x = torch.cat([cls_token, x], dim=1) #merge cls_tok w/ patches\n",
    "        x = self.position_embeddings + x \n",
    "        x = self.dropout(x)\n",
    "        return x\n",
    "    \n",
    "model = PatchEmbedding(EMBED_DIM, PATCH_SIZE, NUM_PATCHES, DROPOUT, IN_CHANNELS).to(device)\n",
    "x = torch.randn(512, 1, 28, 28).to(device) #dummy input for checking work. BATCH_SIZE, INPUT_CHANNELS, IMG_HEIGHT, IMG_WIDTH\n",
    "print(model(x).shape) # model weights, layers and  \n",
    "### 512 - BATCH SIZE , 50 tokens => 49 patches as tokens + 1 cls token, 16 - Size of Patches"
   ]
  },
  {
   "cell_type": "markdown",
   "id": "bc22d340",
   "metadata": {},
   "source": [
    "## Building Vision Transformer Model (on top of Patches Class)\n"
   ]
  },
  {
   "cell_type": "code",
   "execution_count": null,
   "id": "e2e2f61d",
   "metadata": {},
   "outputs": [
    {
     "name": "stderr",
     "output_type": "stream",
     "text": [
      "c:\\Users\\Joshua\\anaconda3\\envs\\MLI\\Lib\\site-packages\\torch\\nn\\modules\\transformer.py:385: UserWarning: enable_nested_tensor is True, but self.use_nested_tensor is False because encoder_layer.norm_first was True\n",
      "  warnings.warn(\n"
     ]
    },
    {
     "name": "stdout",
     "output_type": "stream",
     "text": [
      "torch.Size([512, 10])\n"
     ]
    }
   ],
   "source": [
    "class ViT(nn.Module):\n",
    "    def __init__(self, num_patches, img_size, num_classes, patch_size, embed_dim, num_encoders, num_heads, hidden_dim, dropout, activation, in_channels):\n",
    "        super().__init__()\n",
    "        self.embeddings_block = PatchEmbedding(embed_dim, patch_size, num_patches, dropout, in_channels)\n",
    "        \n",
    "        encoder_layer = nn.TransformerEncoderLayer(d_model=embed_dim, nhead=num_heads, dropout=dropout, activation=activation, batch_first=True, norm_first=True)\n",
    "        self.encoder_blocks = nn.TransformerEncoder(encoder_layer, num_layers=num_encoders)\n",
    "        \n",
    "        self.mlp_head = nn.Sequential(\n",
    "            nn.LayerNorm(normalized_shape=embed_dim),\n",
    "            nn.Linear(in_features=embed_dim, out_features=num_classes)\n",
    "        )\n",
    "    \n",
    "    def forward(self, x):\n",
    "        x = self.embeddings_block(x)\n",
    "        x = self.encoder_blocks(x)\n",
    "        x = self.mlp_head(x[: , 0 , :]) #mlp head needs to take token only\n",
    "        # REMEBER THAT THE CLS TOKEN AT POSN 0 IS A LEARNABLE Feature and its value is influenced by every other (token+img) combo in the \"list\".\n",
    "        # one more layer, a softmax output perhaps? GPT/instructor: Activation fn is for inference not for training, we want to preserve raw logits everywhere else. I was assuming inference too early on.\n",
    "        return x\n",
    "\n",
    "model = ViT(NUM_PATCHES, IMG_SIZE, NUM_CLASSES, PATCH_SIZE, EMBED_DIM, NUM_ENCODERS, NUM_HEADS, HIDDEN_DIM, DROPOUT, ACTIVATION, IN_CHANNELS).to(device)\n",
    "x = torch.randn(512, 1, 28, 28).to(device)\n",
    "print(model(x).shape) # BATCH_SIZE, NUM_CLASSES"
   ]
  },
  {
   "cell_type": "markdown",
   "id": "cd44867f",
   "metadata": {},
   "source": [
    "## Training Preparation\n"
   ]
  },
  {
   "cell_type": "code",
   "execution_count": 61,
   "id": "c22b6f71",
   "metadata": {},
   "outputs": [],
   "source": [
    "import pandas as pd\n",
    "from torch import optim\n",
    "from sklearn.model_selection import train_test_split"
   ]
  },
  {
   "cell_type": "code",
   "execution_count": null,
   "id": "9d7b2ed9",
   "metadata": {},
   "outputs": [],
   "source": []
  },
  {
   "cell_type": "code",
   "execution_count": null,
   "id": "fc8139b7",
   "metadata": {},
   "outputs": [],
   "source": []
  }
 ],
 "metadata": {
  "kernelspec": {
   "display_name": "MLI",
   "language": "python",
   "name": "python3"
  },
  "language_info": {
   "codemirror_mode": {
    "name": "ipython",
    "version": 3
   },
   "file_extension": ".py",
   "mimetype": "text/x-python",
   "name": "python",
   "nbconvert_exporter": "python",
   "pygments_lexer": "ipython3",
   "version": "3.11.11"
  }
 },
 "nbformat": 4,
 "nbformat_minor": 5
}
